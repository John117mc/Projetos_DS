{
 "cells": [
  {
   "cell_type": "markdown",
   "id": "e913997c",
   "metadata": {},
   "source": [
    "# Business Problem\n",
    "O CEO da House Rocket Company, deseja comprar casas com preço baixo e revende-lás com o preço mais alto.\n",
    "Encontre bons negócios dentro do portfólio disponível, ou seja, encontrar casas com preço baixo, em ótima localização e que tenham um ótimo potencial de venda\n",
    "\n",
    "* **OBJECTIVE:**\n",
    "    * Quais são os imóveis que a House Rocket deveria comprar e por qual preço?\n",
    "    * Uma vez o imóvel comprado, qual o melhor momento para vendê-lo e por qual preço?\n",
    "       * 1- Se o preço da compra for maior que a mediana da região + sazonalidade. O preço da venda será igual ao preço da compra + 10%\n",
    "       * 2- Se o preço da compra for menor que a mediana da região + sazonalidade. O preço da venda será igual ao preço da compra + 30%\n",
    "\n",
    "### HYPHOTESIS\n",
    "\n",
    "* **H1:** Imóveis que possuem vista para água são 30% mais caros, na média.\n",
    "* **H2:** Imóveis com data de construção menor que 1955, são 50% mais baratos, na média.\n",
    "* **H3:** Imóveis sem porão possuem área total (sqrt_lot), são 40% maiores do que os imóveis com porão.\n",
    "* **H4:** O crescimento do preço dos imóveis YoY (Year over Year) é de 10%.\n",
    "* **H5:** Imóveis com 3 banheiros tem um crescimento de MoM (Month over Month) de 15%.\n",
    "* **H6:** Imóveis com mais de 3 quartos, tem a sala de estar 30% maior, na média.\n",
    "* **H7:** Imóveis com construção e design de alta qualidade de 11 a 13 são 50% mais caros, na média.\n",
    "* **H8:** Imóveis com o sotão com mais de 3500m² são 30% mais caros, na média.\n",
    "* **H9:** Os preços dos imóveis são 20% mais caros na temporada de verão e primavera do que na temporada de inverno e outono, na média.\n",
    "* **H10:** Imóveis com mais de 2 andares são 35% mais caros, na média.\n",
    "\n",
    "# Business Results\n",
    "\n",
    "<p>Esse projeto tinha o propósito de gerar <b>Insights</b> para a House Rocket Company, para poder comprar os imóveis pelo melhor preço e lucrar com as vendas com as condições impostas pelo CEO.</p>\n",
    "<p>Com as condições de venda impostas pelo CEO, a empresa House Rocket teria um lucro de <b>US$ 2.016.458.904.40</b></p>"
   ]
  },
  {
   "cell_type": "markdown",
   "id": "47faf9ae",
   "metadata": {},
   "source": [
    "# 1.0 Imports"
   ]
  },
  {
   "cell_type": "code",
   "execution_count": 116,
   "id": "a600a5cb",
   "metadata": {
    "ExecuteTime": {
     "end_time": "2022-01-15T19:33:15.174009Z",
     "start_time": "2022-01-15T19:33:15.162008Z"
    }
   },
   "outputs": [],
   "source": [
    "import pandas as pd\n",
    "\n",
    "import seaborn as sns\n",
    "import matplotlib.pyplot as plt"
   ]
  },
  {
   "cell_type": "markdown",
   "id": "c2885383",
   "metadata": {},
   "source": [
    "# 2.0 Functions"
   ]
  },
  {
   "cell_type": "code",
   "execution_count": 117,
   "id": "3cf25673",
   "metadata": {
    "ExecuteTime": {
     "end_time": "2022-01-15T19:33:16.111033Z",
     "start_time": "2022-01-15T19:33:16.090046Z"
    }
   },
   "outputs": [],
   "source": [
    "def save_report(report, path):\n",
    "    report.to_csv(path, index=False)\n",
    "    \n",
    "    return None\n",
    "\n",
    "def get_percent(data):\n",
    "    x = data.iloc[0,1]\n",
    "    y = data.iloc[1,1]\n",
    "    \n",
    "    if (x > y):\n",
    "        x1 = ((x - y) / y) * 100\n",
    "        x1 = round(x1)\n",
    "    else:\n",
    "        x1 = ((y - x) / x) * 100\n",
    "        x1 = round(x1)\n",
    "        \n",
    "    print('the PERCENT is: {}%'.format(x1))\n",
    "    \n",
    "    return None\n",
    "\n",
    "def make_barplot(data, x, y):\n",
    "    fig, ax = plt.subplots(figsize=(8,6))\n",
    "\n",
    "    sns.barplot(data=data, x= x, y= y, ax=ax, palette='twilight')\n",
    "    \n",
    "    ax.set_facecolor('#EAEAF2')\n",
    "    ax.set_xlabel(x, fontdict={'fontsize':14})\n",
    "    ax.set_ylabel(y, fontdict={'fontsize':14})\n",
    "    ax.tick_params(labelsize=14)\n",
    "    fig.tight_layout()\n",
    "    \n",
    "    return None"
   ]
  },
  {
   "cell_type": "markdown",
   "id": "25434954",
   "metadata": {},
   "source": [
    "# 3.0 Loading dataset"
   ]
  },
  {
   "cell_type": "code",
   "execution_count": 118,
   "id": "c91a3d54",
   "metadata": {
    "ExecuteTime": {
     "end_time": "2022-01-15T19:33:17.148947Z",
     "start_time": "2022-01-15T19:33:17.065948Z"
    }
   },
   "outputs": [
    {
     "data": {
      "text/html": [
       "<div>\n",
       "<style scoped>\n",
       "    .dataframe tbody tr th:only-of-type {\n",
       "        vertical-align: middle;\n",
       "    }\n",
       "\n",
       "    .dataframe tbody tr th {\n",
       "        vertical-align: top;\n",
       "    }\n",
       "\n",
       "    .dataframe thead th {\n",
       "        text-align: right;\n",
       "    }\n",
       "</style>\n",
       "<table border=\"1\" class=\"dataframe\">\n",
       "  <thead>\n",
       "    <tr style=\"text-align: right;\">\n",
       "      <th></th>\n",
       "      <th>id</th>\n",
       "      <th>date</th>\n",
       "      <th>price</th>\n",
       "      <th>bedrooms</th>\n",
       "      <th>bathrooms</th>\n",
       "      <th>sqft_living</th>\n",
       "      <th>sqft_lot</th>\n",
       "      <th>floors</th>\n",
       "      <th>waterfront</th>\n",
       "      <th>view</th>\n",
       "      <th>...</th>\n",
       "      <th>grade</th>\n",
       "      <th>sqft_above</th>\n",
       "      <th>sqft_basement</th>\n",
       "      <th>yr_built</th>\n",
       "      <th>yr_renovated</th>\n",
       "      <th>zipcode</th>\n",
       "      <th>lat</th>\n",
       "      <th>long</th>\n",
       "      <th>sqft_living15</th>\n",
       "      <th>sqft_lot15</th>\n",
       "    </tr>\n",
       "  </thead>\n",
       "  <tbody>\n",
       "    <tr>\n",
       "      <th>0</th>\n",
       "      <td>7129300520</td>\n",
       "      <td>20141013T000000</td>\n",
       "      <td>221900.00</td>\n",
       "      <td>3</td>\n",
       "      <td>1.00</td>\n",
       "      <td>1180</td>\n",
       "      <td>5650</td>\n",
       "      <td>1.00</td>\n",
       "      <td>0</td>\n",
       "      <td>0</td>\n",
       "      <td>...</td>\n",
       "      <td>7</td>\n",
       "      <td>1180</td>\n",
       "      <td>0</td>\n",
       "      <td>1955</td>\n",
       "      <td>0</td>\n",
       "      <td>98178</td>\n",
       "      <td>47.51</td>\n",
       "      <td>-122.26</td>\n",
       "      <td>1340</td>\n",
       "      <td>5650</td>\n",
       "    </tr>\n",
       "    <tr>\n",
       "      <th>1</th>\n",
       "      <td>6414100192</td>\n",
       "      <td>20141209T000000</td>\n",
       "      <td>538000.00</td>\n",
       "      <td>3</td>\n",
       "      <td>2.25</td>\n",
       "      <td>2570</td>\n",
       "      <td>7242</td>\n",
       "      <td>2.00</td>\n",
       "      <td>0</td>\n",
       "      <td>0</td>\n",
       "      <td>...</td>\n",
       "      <td>7</td>\n",
       "      <td>2170</td>\n",
       "      <td>400</td>\n",
       "      <td>1951</td>\n",
       "      <td>1991</td>\n",
       "      <td>98125</td>\n",
       "      <td>47.72</td>\n",
       "      <td>-122.32</td>\n",
       "      <td>1690</td>\n",
       "      <td>7639</td>\n",
       "    </tr>\n",
       "    <tr>\n",
       "      <th>2</th>\n",
       "      <td>5631500400</td>\n",
       "      <td>20150225T000000</td>\n",
       "      <td>180000.00</td>\n",
       "      <td>2</td>\n",
       "      <td>1.00</td>\n",
       "      <td>770</td>\n",
       "      <td>10000</td>\n",
       "      <td>1.00</td>\n",
       "      <td>0</td>\n",
       "      <td>0</td>\n",
       "      <td>...</td>\n",
       "      <td>6</td>\n",
       "      <td>770</td>\n",
       "      <td>0</td>\n",
       "      <td>1933</td>\n",
       "      <td>0</td>\n",
       "      <td>98028</td>\n",
       "      <td>47.74</td>\n",
       "      <td>-122.23</td>\n",
       "      <td>2720</td>\n",
       "      <td>8062</td>\n",
       "    </tr>\n",
       "    <tr>\n",
       "      <th>3</th>\n",
       "      <td>2487200875</td>\n",
       "      <td>20141209T000000</td>\n",
       "      <td>604000.00</td>\n",
       "      <td>4</td>\n",
       "      <td>3.00</td>\n",
       "      <td>1960</td>\n",
       "      <td>5000</td>\n",
       "      <td>1.00</td>\n",
       "      <td>0</td>\n",
       "      <td>0</td>\n",
       "      <td>...</td>\n",
       "      <td>7</td>\n",
       "      <td>1050</td>\n",
       "      <td>910</td>\n",
       "      <td>1965</td>\n",
       "      <td>0</td>\n",
       "      <td>98136</td>\n",
       "      <td>47.52</td>\n",
       "      <td>-122.39</td>\n",
       "      <td>1360</td>\n",
       "      <td>5000</td>\n",
       "    </tr>\n",
       "    <tr>\n",
       "      <th>4</th>\n",
       "      <td>1954400510</td>\n",
       "      <td>20150218T000000</td>\n",
       "      <td>510000.00</td>\n",
       "      <td>3</td>\n",
       "      <td>2.00</td>\n",
       "      <td>1680</td>\n",
       "      <td>8080</td>\n",
       "      <td>1.00</td>\n",
       "      <td>0</td>\n",
       "      <td>0</td>\n",
       "      <td>...</td>\n",
       "      <td>8</td>\n",
       "      <td>1680</td>\n",
       "      <td>0</td>\n",
       "      <td>1987</td>\n",
       "      <td>0</td>\n",
       "      <td>98074</td>\n",
       "      <td>47.62</td>\n",
       "      <td>-122.05</td>\n",
       "      <td>1800</td>\n",
       "      <td>7503</td>\n",
       "    </tr>\n",
       "  </tbody>\n",
       "</table>\n",
       "<p>5 rows × 21 columns</p>\n",
       "</div>"
      ],
      "text/plain": [
       "           id             date     price  bedrooms  bathrooms  sqft_living  \\\n",
       "0  7129300520  20141013T000000 221900.00         3       1.00         1180   \n",
       "1  6414100192  20141209T000000 538000.00         3       2.25         2570   \n",
       "2  5631500400  20150225T000000 180000.00         2       1.00          770   \n",
       "3  2487200875  20141209T000000 604000.00         4       3.00         1960   \n",
       "4  1954400510  20150218T000000 510000.00         3       2.00         1680   \n",
       "\n",
       "   sqft_lot  floors  waterfront  view  ...  grade  sqft_above  sqft_basement  \\\n",
       "0      5650    1.00           0     0  ...      7        1180              0   \n",
       "1      7242    2.00           0     0  ...      7        2170            400   \n",
       "2     10000    1.00           0     0  ...      6         770              0   \n",
       "3      5000    1.00           0     0  ...      7        1050            910   \n",
       "4      8080    1.00           0     0  ...      8        1680              0   \n",
       "\n",
       "   yr_built  yr_renovated  zipcode   lat    long  sqft_living15  sqft_lot15  \n",
       "0      1955             0    98178 47.51 -122.26           1340        5650  \n",
       "1      1951          1991    98125 47.72 -122.32           1690        7639  \n",
       "2      1933             0    98028 47.74 -122.23           2720        8062  \n",
       "3      1965             0    98136 47.52 -122.39           1360        5000  \n",
       "4      1987             0    98074 47.62 -122.05           1800        7503  \n",
       "\n",
       "[5 rows x 21 columns]"
      ]
     },
     "execution_count": 118,
     "metadata": {},
     "output_type": "execute_result"
    }
   ],
   "source": [
    "data = pd.read_csv('kc_house_data.csv')\n",
    "data.head()"
   ]
  },
  {
   "cell_type": "markdown",
   "id": "19f8e247",
   "metadata": {},
   "source": [
    "## 3.1 Descriptive Analysis"
   ]
  },
  {
   "cell_type": "code",
   "execution_count": 119,
   "id": "d3f3f786",
   "metadata": {
    "ExecuteTime": {
     "end_time": "2022-01-15T19:33:18.054799Z",
     "start_time": "2022-01-15T19:33:17.985792Z"
    }
   },
   "outputs": [
    {
     "data": {
      "text/html": [
       "<div>\n",
       "<style scoped>\n",
       "    .dataframe tbody tr th:only-of-type {\n",
       "        vertical-align: middle;\n",
       "    }\n",
       "\n",
       "    .dataframe tbody tr th {\n",
       "        vertical-align: top;\n",
       "    }\n",
       "\n",
       "    .dataframe thead th {\n",
       "        text-align: right;\n",
       "    }\n",
       "</style>\n",
       "<table border=\"1\" class=\"dataframe\">\n",
       "  <thead>\n",
       "    <tr style=\"text-align: right;\">\n",
       "      <th></th>\n",
       "      <th>count</th>\n",
       "      <th>mean</th>\n",
       "      <th>std</th>\n",
       "      <th>min</th>\n",
       "      <th>25%</th>\n",
       "      <th>50%</th>\n",
       "      <th>75%</th>\n",
       "      <th>max</th>\n",
       "    </tr>\n",
       "  </thead>\n",
       "  <tbody>\n",
       "    <tr>\n",
       "      <th>id</th>\n",
       "      <td>21613.00</td>\n",
       "      <td>4580301520.86</td>\n",
       "      <td>2876565571.31</td>\n",
       "      <td>1000102.00</td>\n",
       "      <td>2123049194.00</td>\n",
       "      <td>3904930410.00</td>\n",
       "      <td>7308900445.00</td>\n",
       "      <td>9900000190.00</td>\n",
       "    </tr>\n",
       "    <tr>\n",
       "      <th>price</th>\n",
       "      <td>21613.00</td>\n",
       "      <td>540088.14</td>\n",
       "      <td>367127.20</td>\n",
       "      <td>75000.00</td>\n",
       "      <td>321950.00</td>\n",
       "      <td>450000.00</td>\n",
       "      <td>645000.00</td>\n",
       "      <td>7700000.00</td>\n",
       "    </tr>\n",
       "    <tr>\n",
       "      <th>bedrooms</th>\n",
       "      <td>21613.00</td>\n",
       "      <td>3.37</td>\n",
       "      <td>0.93</td>\n",
       "      <td>0.00</td>\n",
       "      <td>3.00</td>\n",
       "      <td>3.00</td>\n",
       "      <td>4.00</td>\n",
       "      <td>33.00</td>\n",
       "    </tr>\n",
       "    <tr>\n",
       "      <th>bathrooms</th>\n",
       "      <td>21613.00</td>\n",
       "      <td>2.11</td>\n",
       "      <td>0.77</td>\n",
       "      <td>0.00</td>\n",
       "      <td>1.75</td>\n",
       "      <td>2.25</td>\n",
       "      <td>2.50</td>\n",
       "      <td>8.00</td>\n",
       "    </tr>\n",
       "    <tr>\n",
       "      <th>sqft_living</th>\n",
       "      <td>21613.00</td>\n",
       "      <td>2079.90</td>\n",
       "      <td>918.44</td>\n",
       "      <td>290.00</td>\n",
       "      <td>1427.00</td>\n",
       "      <td>1910.00</td>\n",
       "      <td>2550.00</td>\n",
       "      <td>13540.00</td>\n",
       "    </tr>\n",
       "    <tr>\n",
       "      <th>sqft_lot</th>\n",
       "      <td>21613.00</td>\n",
       "      <td>15106.97</td>\n",
       "      <td>41420.51</td>\n",
       "      <td>520.00</td>\n",
       "      <td>5040.00</td>\n",
       "      <td>7618.00</td>\n",
       "      <td>10688.00</td>\n",
       "      <td>1651359.00</td>\n",
       "    </tr>\n",
       "    <tr>\n",
       "      <th>floors</th>\n",
       "      <td>21613.00</td>\n",
       "      <td>1.49</td>\n",
       "      <td>0.54</td>\n",
       "      <td>1.00</td>\n",
       "      <td>1.00</td>\n",
       "      <td>1.50</td>\n",
       "      <td>2.00</td>\n",
       "      <td>3.50</td>\n",
       "    </tr>\n",
       "    <tr>\n",
       "      <th>waterfront</th>\n",
       "      <td>21613.00</td>\n",
       "      <td>0.01</td>\n",
       "      <td>0.09</td>\n",
       "      <td>0.00</td>\n",
       "      <td>0.00</td>\n",
       "      <td>0.00</td>\n",
       "      <td>0.00</td>\n",
       "      <td>1.00</td>\n",
       "    </tr>\n",
       "    <tr>\n",
       "      <th>view</th>\n",
       "      <td>21613.00</td>\n",
       "      <td>0.23</td>\n",
       "      <td>0.77</td>\n",
       "      <td>0.00</td>\n",
       "      <td>0.00</td>\n",
       "      <td>0.00</td>\n",
       "      <td>0.00</td>\n",
       "      <td>4.00</td>\n",
       "    </tr>\n",
       "    <tr>\n",
       "      <th>condition</th>\n",
       "      <td>21613.00</td>\n",
       "      <td>3.41</td>\n",
       "      <td>0.65</td>\n",
       "      <td>1.00</td>\n",
       "      <td>3.00</td>\n",
       "      <td>3.00</td>\n",
       "      <td>4.00</td>\n",
       "      <td>5.00</td>\n",
       "    </tr>\n",
       "    <tr>\n",
       "      <th>grade</th>\n",
       "      <td>21613.00</td>\n",
       "      <td>7.66</td>\n",
       "      <td>1.18</td>\n",
       "      <td>1.00</td>\n",
       "      <td>7.00</td>\n",
       "      <td>7.00</td>\n",
       "      <td>8.00</td>\n",
       "      <td>13.00</td>\n",
       "    </tr>\n",
       "    <tr>\n",
       "      <th>sqft_above</th>\n",
       "      <td>21613.00</td>\n",
       "      <td>1788.39</td>\n",
       "      <td>828.09</td>\n",
       "      <td>290.00</td>\n",
       "      <td>1190.00</td>\n",
       "      <td>1560.00</td>\n",
       "      <td>2210.00</td>\n",
       "      <td>9410.00</td>\n",
       "    </tr>\n",
       "    <tr>\n",
       "      <th>sqft_basement</th>\n",
       "      <td>21613.00</td>\n",
       "      <td>291.51</td>\n",
       "      <td>442.58</td>\n",
       "      <td>0.00</td>\n",
       "      <td>0.00</td>\n",
       "      <td>0.00</td>\n",
       "      <td>560.00</td>\n",
       "      <td>4820.00</td>\n",
       "    </tr>\n",
       "    <tr>\n",
       "      <th>yr_built</th>\n",
       "      <td>21613.00</td>\n",
       "      <td>1971.01</td>\n",
       "      <td>29.37</td>\n",
       "      <td>1900.00</td>\n",
       "      <td>1951.00</td>\n",
       "      <td>1975.00</td>\n",
       "      <td>1997.00</td>\n",
       "      <td>2015.00</td>\n",
       "    </tr>\n",
       "    <tr>\n",
       "      <th>yr_renovated</th>\n",
       "      <td>21613.00</td>\n",
       "      <td>84.40</td>\n",
       "      <td>401.68</td>\n",
       "      <td>0.00</td>\n",
       "      <td>0.00</td>\n",
       "      <td>0.00</td>\n",
       "      <td>0.00</td>\n",
       "      <td>2015.00</td>\n",
       "    </tr>\n",
       "    <tr>\n",
       "      <th>zipcode</th>\n",
       "      <td>21613.00</td>\n",
       "      <td>98077.94</td>\n",
       "      <td>53.51</td>\n",
       "      <td>98001.00</td>\n",
       "      <td>98033.00</td>\n",
       "      <td>98065.00</td>\n",
       "      <td>98118.00</td>\n",
       "      <td>98199.00</td>\n",
       "    </tr>\n",
       "    <tr>\n",
       "      <th>lat</th>\n",
       "      <td>21613.00</td>\n",
       "      <td>47.56</td>\n",
       "      <td>0.14</td>\n",
       "      <td>47.16</td>\n",
       "      <td>47.47</td>\n",
       "      <td>47.57</td>\n",
       "      <td>47.68</td>\n",
       "      <td>47.78</td>\n",
       "    </tr>\n",
       "    <tr>\n",
       "      <th>long</th>\n",
       "      <td>21613.00</td>\n",
       "      <td>-122.21</td>\n",
       "      <td>0.14</td>\n",
       "      <td>-122.52</td>\n",
       "      <td>-122.33</td>\n",
       "      <td>-122.23</td>\n",
       "      <td>-122.12</td>\n",
       "      <td>-121.31</td>\n",
       "    </tr>\n",
       "    <tr>\n",
       "      <th>sqft_living15</th>\n",
       "      <td>21613.00</td>\n",
       "      <td>1986.55</td>\n",
       "      <td>685.39</td>\n",
       "      <td>399.00</td>\n",
       "      <td>1490.00</td>\n",
       "      <td>1840.00</td>\n",
       "      <td>2360.00</td>\n",
       "      <td>6210.00</td>\n",
       "    </tr>\n",
       "    <tr>\n",
       "      <th>sqft_lot15</th>\n",
       "      <td>21613.00</td>\n",
       "      <td>12768.46</td>\n",
       "      <td>27304.18</td>\n",
       "      <td>651.00</td>\n",
       "      <td>5100.00</td>\n",
       "      <td>7620.00</td>\n",
       "      <td>10083.00</td>\n",
       "      <td>871200.00</td>\n",
       "    </tr>\n",
       "  </tbody>\n",
       "</table>\n",
       "</div>"
      ],
      "text/plain": [
       "                 count          mean           std        min           25%  \\\n",
       "id            21613.00 4580301520.86 2876565571.31 1000102.00 2123049194.00   \n",
       "price         21613.00     540088.14     367127.20   75000.00     321950.00   \n",
       "bedrooms      21613.00          3.37          0.93       0.00          3.00   \n",
       "bathrooms     21613.00          2.11          0.77       0.00          1.75   \n",
       "sqft_living   21613.00       2079.90        918.44     290.00       1427.00   \n",
       "sqft_lot      21613.00      15106.97      41420.51     520.00       5040.00   \n",
       "floors        21613.00          1.49          0.54       1.00          1.00   \n",
       "waterfront    21613.00          0.01          0.09       0.00          0.00   \n",
       "view          21613.00          0.23          0.77       0.00          0.00   \n",
       "condition     21613.00          3.41          0.65       1.00          3.00   \n",
       "grade         21613.00          7.66          1.18       1.00          7.00   \n",
       "sqft_above    21613.00       1788.39        828.09     290.00       1190.00   \n",
       "sqft_basement 21613.00        291.51        442.58       0.00          0.00   \n",
       "yr_built      21613.00       1971.01         29.37    1900.00       1951.00   \n",
       "yr_renovated  21613.00         84.40        401.68       0.00          0.00   \n",
       "zipcode       21613.00      98077.94         53.51   98001.00      98033.00   \n",
       "lat           21613.00         47.56          0.14      47.16         47.47   \n",
       "long          21613.00       -122.21          0.14    -122.52       -122.33   \n",
       "sqft_living15 21613.00       1986.55        685.39     399.00       1490.00   \n",
       "sqft_lot15    21613.00      12768.46      27304.18     651.00       5100.00   \n",
       "\n",
       "                        50%           75%           max  \n",
       "id            3904930410.00 7308900445.00 9900000190.00  \n",
       "price             450000.00     645000.00    7700000.00  \n",
       "bedrooms               3.00          4.00         33.00  \n",
       "bathrooms              2.25          2.50          8.00  \n",
       "sqft_living         1910.00       2550.00      13540.00  \n",
       "sqft_lot            7618.00      10688.00    1651359.00  \n",
       "floors                 1.50          2.00          3.50  \n",
       "waterfront             0.00          0.00          1.00  \n",
       "view                   0.00          0.00          4.00  \n",
       "condition              3.00          4.00          5.00  \n",
       "grade                  7.00          8.00         13.00  \n",
       "sqft_above          1560.00       2210.00       9410.00  \n",
       "sqft_basement          0.00        560.00       4820.00  \n",
       "yr_built            1975.00       1997.00       2015.00  \n",
       "yr_renovated           0.00          0.00       2015.00  \n",
       "zipcode            98065.00      98118.00      98199.00  \n",
       "lat                   47.57         47.68         47.78  \n",
       "long                -122.23       -122.12       -121.31  \n",
       "sqft_living15       1840.00       2360.00       6210.00  \n",
       "sqft_lot15          7620.00      10083.00     871200.00  "
      ]
     },
     "execution_count": 119,
     "metadata": {},
     "output_type": "execute_result"
    }
   ],
   "source": [
    "pd.set_option('display.float_format', lambda x: '%.2f' % x)\n",
    "data.describe().T"
   ]
  },
  {
   "cell_type": "markdown",
   "id": "d584ad9d",
   "metadata": {},
   "source": [
    "# 4.0 Data Cleaning"
   ]
  },
  {
   "cell_type": "code",
   "execution_count": 120,
   "id": "d6e4b0e8",
   "metadata": {
    "ExecuteTime": {
     "end_time": "2022-01-15T19:33:18.942960Z",
     "start_time": "2022-01-15T19:33:18.929963Z"
    }
   },
   "outputs": [
    {
     "data": {
      "text/plain": [
       "id                 int64\n",
       "date              object\n",
       "price            float64\n",
       "bedrooms           int64\n",
       "bathrooms        float64\n",
       "sqft_living        int64\n",
       "sqft_lot           int64\n",
       "floors           float64\n",
       "waterfront         int64\n",
       "view               int64\n",
       "condition          int64\n",
       "grade              int64\n",
       "sqft_above         int64\n",
       "sqft_basement      int64\n",
       "yr_built           int64\n",
       "yr_renovated       int64\n",
       "zipcode            int64\n",
       "lat              float64\n",
       "long             float64\n",
       "sqft_living15      int64\n",
       "sqft_lot15         int64\n",
       "dtype: object"
      ]
     },
     "execution_count": 120,
     "metadata": {},
     "output_type": "execute_result"
    }
   ],
   "source": [
    "data.dtypes"
   ]
  },
  {
   "cell_type": "code",
   "execution_count": 121,
   "id": "fc5fb5d1",
   "metadata": {
    "ExecuteTime": {
     "end_time": "2022-01-15T19:33:19.470806Z",
     "start_time": "2022-01-15T19:33:19.458795Z"
    }
   },
   "outputs": [],
   "source": [
    "data['date'] = pd.to_datetime(data['date'])"
   ]
  },
  {
   "cell_type": "code",
   "execution_count": 122,
   "id": "8521d969",
   "metadata": {
    "ExecuteTime": {
     "end_time": "2022-01-15T19:33:19.972769Z",
     "start_time": "2022-01-15T19:33:19.962776Z"
    }
   },
   "outputs": [
    {
     "data": {
      "text/plain": [
       "id               0\n",
       "date             0\n",
       "price            0\n",
       "bedrooms         0\n",
       "bathrooms        0\n",
       "sqft_living      0\n",
       "sqft_lot         0\n",
       "floors           0\n",
       "waterfront       0\n",
       "view             0\n",
       "condition        0\n",
       "grade            0\n",
       "sqft_above       0\n",
       "sqft_basement    0\n",
       "yr_built         0\n",
       "yr_renovated     0\n",
       "zipcode          0\n",
       "lat              0\n",
       "long             0\n",
       "sqft_living15    0\n",
       "sqft_lot15       0\n",
       "dtype: int64"
      ]
     },
     "execution_count": 122,
     "metadata": {},
     "output_type": "execute_result"
    }
   ],
   "source": [
    "data.isnull().sum()"
   ]
  },
  {
   "cell_type": "markdown",
   "id": "f3c75028",
   "metadata": {},
   "source": [
    "# 5.0 Feature Engineering"
   ]
  },
  {
   "cell_type": "code",
   "execution_count": 123,
   "id": "43acf8f1",
   "metadata": {
    "ExecuteTime": {
     "end_time": "2022-01-15T19:33:21.191937Z",
     "start_time": "2022-01-15T19:33:20.978935Z"
    }
   },
   "outputs": [],
   "source": [
    "data['year'] = data['date'].dt.year\n",
    "\n",
    "data['month_year'] = data['date'].dt.strftime('%Y-%m')"
   ]
  },
  {
   "cell_type": "code",
   "execution_count": 124,
   "id": "84721c53",
   "metadata": {
    "ExecuteTime": {
     "end_time": "2022-01-15T19:33:32.823615Z",
     "start_time": "2022-01-15T19:33:21.443937Z"
    }
   },
   "outputs": [],
   "source": [
    "for i in range(len(data)):\n",
    "    if (data.loc[i,'month_year'] == '2014-03') | (data.loc[i,'month_year'] == '2014-04') | (data.loc[i,'month_year'] == '2014-05'):\n",
    "        data.loc[i,'season'] = 'spring'\n",
    "    \n",
    "    elif (data.loc[i,'month_year'] == '2014-06') | (data.loc[i,'month_year'] == '2014-07') | (data.loc[i,'month_year'] == '2014-08'):\n",
    "        data.loc[i,'season'] = 'summer'\n",
    "    \n",
    "    elif (data.loc[i,'month_year'] == '2014-09') | (data.loc[i,'month_year'] == '2014-10') | (data.loc[i,'month_year'] == '2014-11'):\n",
    "        data.loc[i,'season'] = 'fall'\n",
    "    \n",
    "    elif (data.loc[i,'month_year'] == '2014-12') | (data.loc[i,'month_year'] == '2015-01') | (data.loc[i,'month_year'] == '2015-02'):\n",
    "        data.loc[i,'season'] = 'winter'\n",
    "    \n",
    "    else:\n",
    "        data.loc[i,'season'] = 'spring'"
   ]
  },
  {
   "cell_type": "markdown",
   "id": "92f7446c",
   "metadata": {},
   "source": [
    "# 6.0 EDA - Hyphotesis validations"
   ]
  },
  {
   "cell_type": "markdown",
   "id": "163d4511",
   "metadata": {},
   "source": [
    "## H1: Imóveis que possuem vista para água são 30% mais caros, na média.\n",
    "**TRUE:** Imóveis com vista para a água são 213% mais caros, na média."
   ]
  },
  {
   "cell_type": "code",
   "execution_count": 125,
   "id": "01101b73",
   "metadata": {
    "ExecuteTime": {
     "end_time": "2022-01-15T19:33:32.967629Z",
     "start_time": "2022-01-15T19:33:32.938620Z"
    }
   },
   "outputs": [
    {
     "data": {
      "text/html": [
       "<div>\n",
       "<style scoped>\n",
       "    .dataframe tbody tr th:only-of-type {\n",
       "        vertical-align: middle;\n",
       "    }\n",
       "\n",
       "    .dataframe tbody tr th {\n",
       "        vertical-align: top;\n",
       "    }\n",
       "\n",
       "    .dataframe thead th {\n",
       "        text-align: right;\n",
       "    }\n",
       "</style>\n",
       "<table border=\"1\" class=\"dataframe\">\n",
       "  <thead>\n",
       "    <tr style=\"text-align: right;\">\n",
       "      <th></th>\n",
       "      <th>waterfront</th>\n",
       "      <th>price</th>\n",
       "    </tr>\n",
       "  </thead>\n",
       "  <tbody>\n",
       "    <tr>\n",
       "      <th>0</th>\n",
       "      <td>0</td>\n",
       "      <td>531563.60</td>\n",
       "    </tr>\n",
       "    <tr>\n",
       "      <th>1</th>\n",
       "      <td>1</td>\n",
       "      <td>1661876.02</td>\n",
       "    </tr>\n",
       "  </tbody>\n",
       "</table>\n",
       "</div>"
      ],
      "text/plain": [
       "   waterfront      price\n",
       "0           0  531563.60\n",
       "1           1 1661876.02"
      ]
     },
     "execution_count": 125,
     "metadata": {},
     "output_type": "execute_result"
    }
   ],
   "source": [
    "hypo1 = data[['waterfront','price']].groupby('waterfront').mean().reset_index()\n",
    "hypo1"
   ]
  },
  {
   "cell_type": "code",
   "execution_count": 126,
   "id": "a8101d23",
   "metadata": {
    "ExecuteTime": {
     "end_time": "2022-01-15T19:33:33.945257Z",
     "start_time": "2022-01-15T19:33:33.081618Z"
    }
   },
   "outputs": [
    {
     "name": "stdout",
     "output_type": "stream",
     "text": [
      "the PERCENT is: 213%\n"
     ]
    },
    {
     "data": {
      "image/png": "[encoded data removed]",
      "text/plain": [
       "<Figure size 576x432 with 1 Axes>"
      ]
     },
     "metadata": {},
     "output_type": "display_data"
    }
   ],
   "source": [
    "get_percent(hypo1)\n",
    "make_barplot(hypo1, 'waterfront', 'price')"
   ]
  },
  {
   "cell_type": "markdown",
   "id": "22811a39",
   "metadata": {},
   "source": [
    "## H2: Imóveis com data de construção menor que 1955, são 50% mais baratos, na média.\n",
    "**FALSE:** Imóveis com data de construção menor que 1995 são 2% mais baratos, na média."
   ]
  },
  {
   "cell_type": "code",
   "execution_count": 127,
   "id": "e7c34746",
   "metadata": {
    "ExecuteTime": {
     "end_time": "2022-01-15T19:33:45.854542Z",
     "start_time": "2022-01-15T19:33:34.108259Z"
    }
   },
   "outputs": [
    {
     "data": {
      "text/html": [
       "<div>\n",
       "<style scoped>\n",
       "    .dataframe tbody tr th:only-of-type {\n",
       "        vertical-align: middle;\n",
       "    }\n",
       "\n",
       "    .dataframe tbody tr th {\n",
       "        vertical-align: top;\n",
       "    }\n",
       "\n",
       "    .dataframe thead th {\n",
       "        text-align: right;\n",
       "    }\n",
       "</style>\n",
       "<table border=\"1\" class=\"dataframe\">\n",
       "  <thead>\n",
       "    <tr style=\"text-align: right;\">\n",
       "      <th></th>\n",
       "      <th>status</th>\n",
       "      <th>price</th>\n",
       "    </tr>\n",
       "  </thead>\n",
       "  <tbody>\n",
       "    <tr>\n",
       "      <th>0</th>\n",
       "      <td>new</td>\n",
       "      <td>542917.16</td>\n",
       "    </tr>\n",
       "    <tr>\n",
       "      <th>1</th>\n",
       "      <td>old</td>\n",
       "      <td>533415.43</td>\n",
       "    </tr>\n",
       "  </tbody>\n",
       "</table>\n",
       "</div>"
      ],
      "text/plain": [
       "  status     price\n",
       "0    new 542917.16\n",
       "1    old 533415.43"
      ]
     },
     "execution_count": 127,
     "metadata": {},
     "output_type": "execute_result"
    }
   ],
   "source": [
    "hypo2 = data[['price','yr_built']].copy()\n",
    "\n",
    "hypo2['status'] = 'NA'\n",
    "\n",
    "for i in range(len(hypo2)):\n",
    "    if (hypo2.loc[i, 'yr_built'] <= 1955):\n",
    "        hypo2.loc[i,'status'] = 'old'\n",
    "    else:\n",
    "        hypo2.loc[i,'status'] = 'new'\n",
    "        \n",
    "hypo2.drop(['yr_built'], axis=1, inplace=True)\n",
    "hypo2 = hypo2.groupby('status')['price'].mean().reset_index()\n",
    "hypo2"
   ]
  },
  {
   "cell_type": "code",
   "execution_count": 128,
   "id": "981b7db6",
   "metadata": {
    "ExecuteTime": {
     "end_time": "2022-01-15T19:33:46.138588Z",
     "start_time": "2022-01-15T19:33:45.982591Z"
    }
   },
   "outputs": [
    {
     "name": "stdout",
     "output_type": "stream",
     "text": [
      "the PERCENT is: 2%\n"
     ]
    },
    {
     "data": {
      "image/png": "[encoded data removed]",
      "text/plain": [
       "<Figure size 576x432 with 1 Axes>"
      ]
     },
     "metadata": {},
     "output_type": "display_data"
    }
   ],
   "source": [
    "get_percent(hypo2)\n",
    "make_barplot(hypo2, 'status', 'price')"
   ]
  },
  {
   "cell_type": "markdown",
   "id": "1691211e",
   "metadata": {},
   "source": [
    "# H3: Imóveis sem porão possuem área total (sqrt_lot), são 40% maiores do que os imóveis com porão, na média.\n",
    "**FALSE**: Imóveis sem porão são 23% maiores do que os imóveis com porão, na média."
   ]
  },
  {
   "cell_type": "code",
   "execution_count": 129,
   "id": "7d854bb7",
   "metadata": {
    "ExecuteTime": {
     "end_time": "2022-01-15T19:33:57.562390Z",
     "start_time": "2022-01-15T19:33:46.266619Z"
    }
   },
   "outputs": [
    {
     "data": {
      "text/html": [
       "<div>\n",
       "<style scoped>\n",
       "    .dataframe tbody tr th:only-of-type {\n",
       "        vertical-align: middle;\n",
       "    }\n",
       "\n",
       "    .dataframe tbody tr th {\n",
       "        vertical-align: top;\n",
       "    }\n",
       "\n",
       "    .dataframe thead th {\n",
       "        text-align: right;\n",
       "    }\n",
       "</style>\n",
       "<table border=\"1\" class=\"dataframe\">\n",
       "  <thead>\n",
       "    <tr style=\"text-align: right;\">\n",
       "      <th></th>\n",
       "      <th>status</th>\n",
       "      <th>sqft_lot</th>\n",
       "    </tr>\n",
       "  </thead>\n",
       "  <tbody>\n",
       "    <tr>\n",
       "      <th>0</th>\n",
       "      <td>no_basement</td>\n",
       "      <td>16284.18</td>\n",
       "    </tr>\n",
       "    <tr>\n",
       "      <th>1</th>\n",
       "      <td>with_basement</td>\n",
       "      <td>13286.29</td>\n",
       "    </tr>\n",
       "  </tbody>\n",
       "</table>\n",
       "</div>"
      ],
      "text/plain": [
       "          status  sqft_lot\n",
       "0    no_basement  16284.18\n",
       "1  with_basement  13286.29"
      ]
     },
     "execution_count": 129,
     "metadata": {},
     "output_type": "execute_result"
    }
   ],
   "source": [
    "hypo3 = data[['sqft_basement', 'sqft_lot']].copy()\n",
    "\n",
    "hypo3['status'] = 'NA'\n",
    "\n",
    "for i in range(len(hypo3)):\n",
    "    if (hypo3.loc[i,'sqft_basement'] != 0):\n",
    "        hypo3.loc[i,'status'] = 'with_basement'\n",
    "    else:\n",
    "        hypo3.loc[i,'status'] = 'no_basement'\n",
    "        \n",
    "hypo3.drop(['sqft_basement'], axis=1, inplace=True)\n",
    "hypo3 = hypo3.groupby('status')['sqft_lot'].mean().reset_index()\n",
    "hypo3"
   ]
  },
  {
   "cell_type": "code",
   "execution_count": 130,
   "id": "8427d404",
   "metadata": {
    "ExecuteTime": {
     "end_time": "2022-01-15T19:33:57.938403Z",
     "start_time": "2022-01-15T19:33:57.770390Z"
    }
   },
   "outputs": [
    {
     "name": "stdout",
     "output_type": "stream",
     "text": [
      "the PERCENT is: 23%\n"
     ]
    },
    {
     "data": {
      "image/png": "[encoded data removed]",
      "text/plain": [
       "<Figure size 576x432 with 1 Axes>"
      ]
     },
     "metadata": {},
     "output_type": "display_data"
    }
   ],
   "source": [
    "get_percent(hypo3)\n",
    "make_barplot(hypo3, 'status', 'sqft_lot')"
   ]
  },
  {
   "cell_type": "markdown",
   "id": "872d91b7",
   "metadata": {},
   "source": [
    "# H4: O crescimento do preço dos imóveis YoY (Year over Year) é de 10%.\n",
    "**FALSE:** O crescimento é de apenas 1%."
   ]
  },
  {
   "cell_type": "code",
   "execution_count": 131,
   "id": "0467a6b5",
   "metadata": {
    "ExecuteTime": {
     "end_time": "2022-01-15T19:33:58.079392Z",
     "start_time": "2022-01-15T19:33:58.066390Z"
    }
   },
   "outputs": [
    {
     "data": {
      "text/html": [
       "<div>\n",
       "<style scoped>\n",
       "    .dataframe tbody tr th:only-of-type {\n",
       "        vertical-align: middle;\n",
       "    }\n",
       "\n",
       "    .dataframe tbody tr th {\n",
       "        vertical-align: top;\n",
       "    }\n",
       "\n",
       "    .dataframe thead th {\n",
       "        text-align: right;\n",
       "    }\n",
       "</style>\n",
       "<table border=\"1\" class=\"dataframe\">\n",
       "  <thead>\n",
       "    <tr style=\"text-align: right;\">\n",
       "      <th></th>\n",
       "      <th>year</th>\n",
       "      <th>price</th>\n",
       "    </tr>\n",
       "  </thead>\n",
       "  <tbody>\n",
       "    <tr>\n",
       "      <th>0</th>\n",
       "      <td>2014</td>\n",
       "      <td>539181.43</td>\n",
       "    </tr>\n",
       "    <tr>\n",
       "      <th>1</th>\n",
       "      <td>2015</td>\n",
       "      <td>541988.99</td>\n",
       "    </tr>\n",
       "  </tbody>\n",
       "</table>\n",
       "</div>"
      ],
      "text/plain": [
       "   year     price\n",
       "0  2014 539181.43\n",
       "1  2015 541988.99"
      ]
     },
     "execution_count": 131,
     "metadata": {},
     "output_type": "execute_result"
    }
   ],
   "source": [
    "hypo4 = data[['price','year']].copy()\n",
    "hypo4 = hypo4.groupby('year')['price'].mean().reset_index()\n",
    "hypo4"
   ]
  },
  {
   "cell_type": "code",
   "execution_count": 132,
   "id": "5b5f021e",
   "metadata": {
    "ExecuteTime": {
     "end_time": "2022-01-15T19:33:58.506171Z",
     "start_time": "2022-01-15T19:33:58.208395Z"
    }
   },
   "outputs": [
    {
     "name": "stdout",
     "output_type": "stream",
     "text": [
      "the PERCENT is: 1%\n"
     ]
    },
    {
     "data": {
      "image/png": "[encoded data removed]",
      "text/plain": [
       "<Figure size 576x432 with 1 Axes>"
      ]
     },
     "metadata": {},
     "output_type": "display_data"
    }
   ],
   "source": [
    "get_percent(hypo4)\n",
    "make_barplot(hypo4, 'year', 'price')"
   ]
  },
  {
   "cell_type": "markdown",
   "id": "7b259bd5",
   "metadata": {},
   "source": [
    "# H5: Imóveis com 3 banheiros tem um crescimento de MoM (Month over Month) de 15%.\n",
    "**FALSE:** O crescimento MoM não é constante igual a 15%."
   ]
  },
  {
   "cell_type": "code",
   "execution_count": 133,
   "id": "d2e5cf58",
   "metadata": {
    "ExecuteTime": {
     "end_time": "2022-01-15T19:33:58.694173Z",
     "start_time": "2022-01-15T19:33:58.650174Z"
    }
   },
   "outputs": [
    {
     "data": {
      "text/html": [
       "<div>\n",
       "<style scoped>\n",
       "    .dataframe tbody tr th:only-of-type {\n",
       "        vertical-align: middle;\n",
       "    }\n",
       "\n",
       "    .dataframe tbody tr th {\n",
       "        vertical-align: top;\n",
       "    }\n",
       "\n",
       "    .dataframe thead th {\n",
       "        text-align: right;\n",
       "    }\n",
       "</style>\n",
       "<table border=\"1\" class=\"dataframe\">\n",
       "  <thead>\n",
       "    <tr style=\"text-align: right;\">\n",
       "      <th></th>\n",
       "      <th>month_year</th>\n",
       "      <th>price</th>\n",
       "      <th>difference</th>\n",
       "      <th>MoM percent</th>\n",
       "    </tr>\n",
       "  </thead>\n",
       "  <tbody>\n",
       "    <tr>\n",
       "      <th>0</th>\n",
       "      <td>2014-05</td>\n",
       "      <td>690080.71</td>\n",
       "      <td>NaN</td>\n",
       "      <td>NaN</td>\n",
       "    </tr>\n",
       "    <tr>\n",
       "      <th>1</th>\n",
       "      <td>2014-06</td>\n",
       "      <td>775057.56</td>\n",
       "      <td>84976.85</td>\n",
       "      <td>11.00</td>\n",
       "    </tr>\n",
       "    <tr>\n",
       "      <th>2</th>\n",
       "      <td>2014-07</td>\n",
       "      <td>741405.04</td>\n",
       "      <td>-33652.52</td>\n",
       "      <td>-5.00</td>\n",
       "    </tr>\n",
       "    <tr>\n",
       "      <th>3</th>\n",
       "      <td>2014-08</td>\n",
       "      <td>737576.56</td>\n",
       "      <td>-3828.48</td>\n",
       "      <td>-1.00</td>\n",
       "    </tr>\n",
       "    <tr>\n",
       "      <th>4</th>\n",
       "      <td>2014-09</td>\n",
       "      <td>645246.89</td>\n",
       "      <td>-92329.68</td>\n",
       "      <td>-14.00</td>\n",
       "    </tr>\n",
       "    <tr>\n",
       "      <th>5</th>\n",
       "      <td>2014-10</td>\n",
       "      <td>645523.02</td>\n",
       "      <td>276.13</td>\n",
       "      <td>0.00</td>\n",
       "    </tr>\n",
       "    <tr>\n",
       "      <th>6</th>\n",
       "      <td>2014-11</td>\n",
       "      <td>679910.47</td>\n",
       "      <td>34387.45</td>\n",
       "      <td>5.00</td>\n",
       "    </tr>\n",
       "    <tr>\n",
       "      <th>7</th>\n",
       "      <td>2014-12</td>\n",
       "      <td>728341.19</td>\n",
       "      <td>48430.72</td>\n",
       "      <td>7.00</td>\n",
       "    </tr>\n",
       "    <tr>\n",
       "      <th>8</th>\n",
       "      <td>2015-01</td>\n",
       "      <td>672923.17</td>\n",
       "      <td>-55418.02</td>\n",
       "      <td>-8.00</td>\n",
       "    </tr>\n",
       "    <tr>\n",
       "      <th>9</th>\n",
       "      <td>2015-02</td>\n",
       "      <td>696714.42</td>\n",
       "      <td>23791.25</td>\n",
       "      <td>3.00</td>\n",
       "    </tr>\n",
       "    <tr>\n",
       "      <th>10</th>\n",
       "      <td>2015-03</td>\n",
       "      <td>768495.10</td>\n",
       "      <td>71780.67</td>\n",
       "      <td>9.00</td>\n",
       "    </tr>\n",
       "    <tr>\n",
       "      <th>11</th>\n",
       "      <td>2015-04</td>\n",
       "      <td>709751.99</td>\n",
       "      <td>-58743.11</td>\n",
       "      <td>-8.00</td>\n",
       "    </tr>\n",
       "    <tr>\n",
       "      <th>12</th>\n",
       "      <td>2015-05</td>\n",
       "      <td>686351.95</td>\n",
       "      <td>-23400.04</td>\n",
       "      <td>-3.00</td>\n",
       "    </tr>\n",
       "  </tbody>\n",
       "</table>\n",
       "</div>"
      ],
      "text/plain": [
       "   month_year     price  difference  MoM percent\n",
       "0     2014-05 690080.71         NaN          NaN\n",
       "1     2014-06 775057.56    84976.85        11.00\n",
       "2     2014-07 741405.04   -33652.52        -5.00\n",
       "3     2014-08 737576.56    -3828.48        -1.00\n",
       "4     2014-09 645246.89   -92329.68       -14.00\n",
       "5     2014-10 645523.02      276.13         0.00\n",
       "6     2014-11 679910.47    34387.45         5.00\n",
       "7     2014-12 728341.19    48430.72         7.00\n",
       "8     2015-01 672923.17   -55418.02        -8.00\n",
       "9     2015-02 696714.42    23791.25         3.00\n",
       "10    2015-03 768495.10    71780.67         9.00\n",
       "11    2015-04 709751.99   -58743.11        -8.00\n",
       "12    2015-05 686351.95   -23400.04        -3.00"
      ]
     },
     "execution_count": 133,
     "metadata": {},
     "output_type": "execute_result"
    }
   ],
   "source": [
    "hypo5 = data[['bathrooms','month_year','price']].copy()\n",
    "hypo5.drop(hypo5[hypo5.bathrooms != 3].index, inplace=True)\n",
    "hypo5 = hypo5.groupby('month_year')['price'].mean().reset_index()\n",
    "\n",
    "hypo5['difference'] = hypo5['price'].diff(1)\n",
    "hypo5['MoM percent'] = round((hypo5['difference'] / hypo5['price']) * 100)\n",
    "hypo5"
   ]
  },
  {
   "cell_type": "code",
   "execution_count": 157,
   "id": "cd5799b4",
   "metadata": {
    "ExecuteTime": {
     "end_time": "2022-01-15T19:37:54.706271Z",
     "start_time": "2022-01-15T19:37:54.446273Z"
    }
   },
   "outputs": [
    {
     "data": {
      "image/png": "[encoded data removed]",
      "text/plain": [
       "<Figure size 576x432 with 1 Axes>"
      ]
     },
     "metadata": {},
     "output_type": "display_data"
    }
   ],
   "source": [
    "fig, ax = plt.subplots(figsize=(8,6))\n",
    "sns.lineplot(data= hypo5, x='month_year', ax=ax, y='price', color='b', alpha=0.5)\n",
    "\n",
    "ax.set_xlabel('month_year', fontdict={'fontsize':14})\n",
    "ax.set_ylabel('price', fontdict={'fontsize':14})\n",
    "ax.tick_params(labelsize=14)\n",
    "\n",
    "\n",
    "plt.xticks(rotation=45);\n",
    "fig.tight_layout()"
   ]
  },
  {
   "cell_type": "markdown",
   "id": "f47a8058",
   "metadata": {},
   "source": [
    "# H6:  Imóveis com mais de 3 quartos, tem a sala de estar 30% maior, na média.\n",
    "**TRUE:** Imóveis com mais de 3 quartos tem a sala de estar 82% maior."
   ]
  },
  {
   "cell_type": "code",
   "execution_count": 135,
   "id": "40eb89af",
   "metadata": {
    "ExecuteTime": {
     "end_time": "2022-01-15T19:34:12.023045Z",
     "start_time": "2022-01-15T19:33:59.274944Z"
    }
   },
   "outputs": [
    {
     "data": {
      "text/html": [
       "<div>\n",
       "<style scoped>\n",
       "    .dataframe tbody tr th:only-of-type {\n",
       "        vertical-align: middle;\n",
       "    }\n",
       "\n",
       "    .dataframe tbody tr th {\n",
       "        vertical-align: top;\n",
       "    }\n",
       "\n",
       "    .dataframe thead th {\n",
       "        text-align: right;\n",
       "    }\n",
       "</style>\n",
       "<table border=\"1\" class=\"dataframe\">\n",
       "  <thead>\n",
       "    <tr style=\"text-align: right;\">\n",
       "      <th></th>\n",
       "      <th>status</th>\n",
       "      <th>sqft_living</th>\n",
       "    </tr>\n",
       "  </thead>\n",
       "  <tbody>\n",
       "    <tr>\n",
       "      <th>0</th>\n",
       "      <td>less bedrooms</td>\n",
       "      <td>1218.02</td>\n",
       "    </tr>\n",
       "    <tr>\n",
       "      <th>1</th>\n",
       "      <td>three more bedrooms</td>\n",
       "      <td>2217.31</td>\n",
       "    </tr>\n",
       "  </tbody>\n",
       "</table>\n",
       "</div>"
      ],
      "text/plain": [
       "                status  sqft_living\n",
       "0        less bedrooms      1218.02\n",
       "1  three more bedrooms      2217.31"
      ]
     },
     "execution_count": 135,
     "metadata": {},
     "output_type": "execute_result"
    }
   ],
   "source": [
    "hypo6 = data[['bedrooms','sqft_living']].copy()\n",
    "hypo6['status'] = 'NA'\n",
    "\n",
    "for i in range(len(hypo6)):\n",
    "    if (hypo6.loc[i,'bedrooms'] >= 3):\n",
    "        hypo6.loc[i,'status'] = 'three more bedrooms'\n",
    "    else:\n",
    "        hypo6.loc[i,'status'] = 'less bedrooms'\n",
    "\n",
    "hypo6.drop(['bedrooms'], axis= 1, inplace=True)\n",
    "hypo6 = hypo6.groupby('status')['sqft_living'].mean().reset_index()\n",
    "\n",
    "hypo6"
   ]
  },
  {
   "cell_type": "code",
   "execution_count": 136,
   "id": "b619cc33",
   "metadata": {
    "ExecuteTime": {
     "end_time": "2022-01-15T19:34:12.307077Z",
     "start_time": "2022-01-15T19:34:12.151049Z"
    }
   },
   "outputs": [
    {
     "name": "stdout",
     "output_type": "stream",
     "text": [
      "the PERCENT is: 82%\n"
     ]
    },
    {
     "data": {
      "image/png": "[encoded data removed]",
      "text/plain": [
       "<Figure size 576x432 with 1 Axes>"
      ]
     },
     "metadata": {},
     "output_type": "display_data"
    }
   ],
   "source": [
    "get_percent(hypo6)\n",
    "make_barplot(hypo6, 'status','sqft_living')"
   ]
  },
  {
   "cell_type": "markdown",
   "id": "7ffaf7b6",
   "metadata": {},
   "source": [
    "# H7: Imóveis com construção e design de alta qualidade de 11 a 13 são 50% mais caros, na média.\n",
    "**TRUE:** Imóveis com construção e design de alta qualidade são 227% mais caros."
   ]
  },
  {
   "cell_type": "code",
   "execution_count": 137,
   "id": "fe0712fc",
   "metadata": {
    "ExecuteTime": {
     "end_time": "2022-01-15T19:34:25.800838Z",
     "start_time": "2022-01-15T19:34:12.434254Z"
    }
   },
   "outputs": [
    {
     "data": {
      "text/html": [
       "<div>\n",
       "<style scoped>\n",
       "    .dataframe tbody tr th:only-of-type {\n",
       "        vertical-align: middle;\n",
       "    }\n",
       "\n",
       "    .dataframe tbody tr th {\n",
       "        vertical-align: top;\n",
       "    }\n",
       "\n",
       "    .dataframe thead th {\n",
       "        text-align: right;\n",
       "    }\n",
       "</style>\n",
       "<table border=\"1\" class=\"dataframe\">\n",
       "  <thead>\n",
       "    <tr style=\"text-align: right;\">\n",
       "      <th></th>\n",
       "      <th>status</th>\n",
       "      <th>price</th>\n",
       "    </tr>\n",
       "  </thead>\n",
       "  <tbody>\n",
       "    <tr>\n",
       "      <th>0</th>\n",
       "      <td>high quality</td>\n",
       "      <td>1678635.12</td>\n",
       "    </tr>\n",
       "    <tr>\n",
       "      <th>1</th>\n",
       "      <td>low quality</td>\n",
       "      <td>513014.55</td>\n",
       "    </tr>\n",
       "  </tbody>\n",
       "</table>\n",
       "</div>"
      ],
      "text/plain": [
       "         status      price\n",
       "0  high quality 1678635.12\n",
       "1   low quality  513014.55"
      ]
     },
     "execution_count": 137,
     "metadata": {},
     "output_type": "execute_result"
    }
   ],
   "source": [
    "hypo7 = data[['grade','price']].copy()\n",
    "hypo7['status'] = 'NA'\n",
    "\n",
    "for i in range(len(hypo7)):\n",
    "    if (hypo7.loc[i,'grade']) <= 10:\n",
    "        hypo7.loc[i,'status'] = 'low quality'\n",
    "    else:\n",
    "        hypo7.loc[i,'status'] = 'high quality'\n",
    "\n",
    "hypo7.drop(['grade'], axis=1, inplace=True)\n",
    "hypo7 = hypo7[['status','price']].groupby('status').mean().reset_index()\n",
    "\n",
    "hypo7"
   ]
  },
  {
   "cell_type": "code",
   "execution_count": 138,
   "id": "9643979c",
   "metadata": {
    "ExecuteTime": {
     "end_time": "2022-01-15T19:34:26.102503Z",
     "start_time": "2022-01-15T19:34:25.930147Z"
    }
   },
   "outputs": [
    {
     "name": "stdout",
     "output_type": "stream",
     "text": [
      "the PERCENT is: 227%\n"
     ]
    },
    {
     "data": {
      "image/png": "[encoded data removed]",
      "text/plain": [
       "<Figure size 576x432 with 1 Axes>"
      ]
     },
     "metadata": {},
     "output_type": "display_data"
    }
   ],
   "source": [
    "get_percent(hypo7)\n",
    "make_barplot(hypo7, 'status','price')"
   ]
  },
  {
   "cell_type": "markdown",
   "id": "10b76134",
   "metadata": {},
   "source": [
    "# H8:  Imóveis com o sotão com mais de 3500m² são 30% mais caros, na média.\n",
    "**TRUE:** Imóveis com o sotão com mais de 3500m² são 163% mais caros, na média."
   ]
  },
  {
   "cell_type": "code",
   "execution_count": 139,
   "id": "3b3474c0",
   "metadata": {
    "ExecuteTime": {
     "end_time": "2022-01-15T19:34:39.790744Z",
     "start_time": "2022-01-15T19:34:26.235532Z"
    }
   },
   "outputs": [
    {
     "data": {
      "text/html": [
       "<div>\n",
       "<style scoped>\n",
       "    .dataframe tbody tr th:only-of-type {\n",
       "        vertical-align: middle;\n",
       "    }\n",
       "\n",
       "    .dataframe tbody tr th {\n",
       "        vertical-align: top;\n",
       "    }\n",
       "\n",
       "    .dataframe thead th {\n",
       "        text-align: right;\n",
       "    }\n",
       "</style>\n",
       "<table border=\"1\" class=\"dataframe\">\n",
       "  <thead>\n",
       "    <tr style=\"text-align: right;\">\n",
       "      <th></th>\n",
       "      <th>status</th>\n",
       "      <th>price</th>\n",
       "    </tr>\n",
       "  </thead>\n",
       "  <tbody>\n",
       "    <tr>\n",
       "      <th>0</th>\n",
       "      <td>large_above</td>\n",
       "      <td>1328339.21</td>\n",
       "    </tr>\n",
       "    <tr>\n",
       "      <th>1</th>\n",
       "      <td>small_above</td>\n",
       "      <td>505321.32</td>\n",
       "    </tr>\n",
       "  </tbody>\n",
       "</table>\n",
       "</div>"
      ],
      "text/plain": [
       "        status      price\n",
       "0  large_above 1328339.21\n",
       "1  small_above  505321.32"
      ]
     },
     "execution_count": 139,
     "metadata": {},
     "output_type": "execute_result"
    }
   ],
   "source": [
    "hypo8 = data[['sqft_above','price']].copy()\n",
    "hypo8['status'] = 'NA'\n",
    "\n",
    "for i in range(len(hypo8)):\n",
    "    if (hypo8.loc[i,'sqft_above'] < 3500):\n",
    "        hypo8.loc[i,'status'] = 'small_above'\n",
    "    else:\n",
    "        hypo8.loc[i,'status'] = 'large_above'\n",
    "        \n",
    "hypo8.drop(['sqft_above'], axis=1, inplace=True)\n",
    "hypo8 = hypo8[['status','price']].groupby('status').mean().reset_index()\n",
    "hypo8"
   ]
  },
  {
   "cell_type": "code",
   "execution_count": 140,
   "id": "c93e0c48",
   "metadata": {
    "ExecuteTime": {
     "end_time": "2022-01-15T19:34:40.073759Z",
     "start_time": "2022-01-15T19:34:39.918746Z"
    }
   },
   "outputs": [
    {
     "name": "stdout",
     "output_type": "stream",
     "text": [
      "the PERCENT is: 163%\n"
     ]
    },
    {
     "data": {
      "image/png": "[encoded data removed]",
      "text/plain": [
       "<Figure size 576x432 with 1 Axes>"
      ]
     },
     "metadata": {},
     "output_type": "display_data"
    }
   ],
   "source": [
    "get_percent(hypo8)\n",
    "make_barplot(hypo8, 'status','price')"
   ]
  },
  {
   "cell_type": "markdown",
   "id": "675e77c1",
   "metadata": {},
   "source": [
    "# H9: Os preços dos imóveis são 20% mais caros na temporada de verão e primavera do que na temporada de inverno e outono, na média.\n",
    "**FALSE:** Os imóveis das temporadas de verão e primavera são 5% mais caros, na média."
   ]
  },
  {
   "cell_type": "code",
   "execution_count": 141,
   "id": "bb336111",
   "metadata": {
    "ExecuteTime": {
     "end_time": "2022-01-15T19:34:40.216199Z",
     "start_time": "2022-01-15T19:34:40.187746Z"
    }
   },
   "outputs": [
    {
     "data": {
      "text/html": [
       "<div>\n",
       "<style scoped>\n",
       "    .dataframe tbody tr th:only-of-type {\n",
       "        vertical-align: middle;\n",
       "    }\n",
       "\n",
       "    .dataframe tbody tr th {\n",
       "        vertical-align: top;\n",
       "    }\n",
       "\n",
       "    .dataframe thead th {\n",
       "        text-align: right;\n",
       "    }\n",
       "</style>\n",
       "<table border=\"1\" class=\"dataframe\">\n",
       "  <thead>\n",
       "    <tr style=\"text-align: right;\">\n",
       "      <th></th>\n",
       "      <th>status</th>\n",
       "      <th>price_mean</th>\n",
       "    </tr>\n",
       "  </thead>\n",
       "  <tbody>\n",
       "    <tr>\n",
       "      <th>0</th>\n",
       "      <td>fall_winter</td>\n",
       "      <td>1050067.75</td>\n",
       "    </tr>\n",
       "    <tr>\n",
       "      <th>1</th>\n",
       "      <td>summer_spring</td>\n",
       "      <td>1099385.20</td>\n",
       "    </tr>\n",
       "  </tbody>\n",
       "</table>\n",
       "</div>"
      ],
      "text/plain": [
       "          status  price_mean\n",
       "0    fall_winter  1050067.75\n",
       "1  summer_spring  1099385.20"
      ]
     },
     "execution_count": 141,
     "metadata": {},
     "output_type": "execute_result"
    }
   ],
   "source": [
    "hypo9 = data[['season','price']].copy()\n",
    "hypo9 = hypo9[['season','price']].groupby('season').mean().reset_index()\n",
    "\n",
    "season_mean = pd.DataFrame()\n",
    "season_mean.loc[0,'status'] = 'fall_winter'\n",
    "season_mean.loc[1,'status'] = 'summer_spring'\n",
    "\n",
    "season_mean.loc[0,'price_mean'] = hypo9.loc[0,'price'] + hypo9.loc[3,'price']\n",
    "season_mean.loc[1,'price_mean'] = hypo9.loc[1,'price'] + hypo9.loc[2,'price']\n",
    "season_mean"
   ]
  },
  {
   "cell_type": "code",
   "execution_count": 142,
   "id": "1c6b3ba7",
   "metadata": {
    "ExecuteTime": {
     "end_time": "2022-01-15T19:34:40.623728Z",
     "start_time": "2022-01-15T19:34:40.344239Z"
    }
   },
   "outputs": [
    {
     "name": "stdout",
     "output_type": "stream",
     "text": [
      "the PERCENT is: 5%\n"
     ]
    },
    {
     "data": {
      "image/png": "[encoded data removed]",
      "text/plain": [
       "<Figure size 576x432 with 1 Axes>"
      ]
     },
     "metadata": {},
     "output_type": "display_data"
    }
   ],
   "source": [
    "get_percent(season_mean)\n",
    "make_barplot(season_mean, 'status','price_mean' )"
   ]
  },
  {
   "cell_type": "markdown",
   "id": "6dd950b5",
   "metadata": {},
   "source": [
    "# H10: Imóveis com mais de 2 andares são 35% mais caros, na média.\n",
    "**FALSE:** Imóveis com mais de 2 andares são 28% mais caros, na média."
   ]
  },
  {
   "cell_type": "code",
   "execution_count": 143,
   "id": "240b3d4f",
   "metadata": {
    "ExecuteTime": {
     "end_time": "2022-01-15T19:34:52.806488Z",
     "start_time": "2022-01-15T19:34:40.736283Z"
    }
   },
   "outputs": [
    {
     "data": {
      "text/html": [
       "<div>\n",
       "<style scoped>\n",
       "    .dataframe tbody tr th:only-of-type {\n",
       "        vertical-align: middle;\n",
       "    }\n",
       "\n",
       "    .dataframe tbody tr th {\n",
       "        vertical-align: top;\n",
       "    }\n",
       "\n",
       "    .dataframe thead th {\n",
       "        text-align: right;\n",
       "    }\n",
       "</style>\n",
       "<table border=\"1\" class=\"dataframe\">\n",
       "  <thead>\n",
       "    <tr style=\"text-align: right;\">\n",
       "      <th></th>\n",
       "      <th>status</th>\n",
       "      <th>price</th>\n",
       "    </tr>\n",
       "  </thead>\n",
       "  <tbody>\n",
       "    <tr>\n",
       "      <th>0</th>\n",
       "      <td>little_floors</td>\n",
       "      <td>459900.09</td>\n",
       "    </tr>\n",
       "    <tr>\n",
       "      <th>1</th>\n",
       "      <td>many floors</td>\n",
       "      <td>651976.37</td>\n",
       "    </tr>\n",
       "  </tbody>\n",
       "</table>\n",
       "</div>"
      ],
      "text/plain": [
       "          status     price\n",
       "0  little_floors 459900.09\n",
       "1    many floors 651976.37"
      ]
     },
     "execution_count": 143,
     "metadata": {},
     "output_type": "execute_result"
    }
   ],
   "source": [
    "hypo10 = data[['price','floors']].copy()\n",
    "hypo10['status'] = 'NA'\n",
    "\n",
    "for i in range(len(hypo10)):\n",
    "    if (hypo10.loc[i,'floors'] < 2):\n",
    "        hypo10.loc[i,'status'] = 'little_floors'\n",
    "    else:\n",
    "        hypo10.loc[i,'status'] = 'many floors'\n",
    "        \n",
    "hypo10.drop(['floors'], axis=1, inplace=True)\n",
    "hypo10 = hypo10[['status','price']].groupby('status').mean().reset_index()\n",
    "hypo10"
   ]
  },
  {
   "cell_type": "code",
   "execution_count": 144,
   "id": "e758d0ca",
   "metadata": {
    "ExecuteTime": {
     "end_time": "2022-01-15T19:34:53.110486Z",
     "start_time": "2022-01-15T19:34:52.936488Z"
    }
   },
   "outputs": [
    {
     "name": "stdout",
     "output_type": "stream",
     "text": [
      "the PERCENT is: 42%\n"
     ]
    },
    {
     "data": {
      "image/png": "[encoded data removed]",
      "text/plain": [
       "<Figure size 576x432 with 1 Axes>"
      ]
     },
     "metadata": {},
     "output_type": "display_data"
    }
   ],
   "source": [
    "get_percent(hypo10)\n",
    "make_barplot(hypo10, 'status','price')"
   ]
  },
  {
   "cell_type": "markdown",
   "id": "54e05c42",
   "metadata": {},
   "source": [
    "# 7.0 Business Questions"
   ]
  },
  {
   "cell_type": "markdown",
   "id": "f6736750",
   "metadata": {},
   "source": [
    "## 7.1 Quais são os imóveis que a House Rocket deveria comprar e por qual preço?"
   ]
  },
  {
   "cell_type": "code",
   "execution_count": 145,
   "id": "ceb66964",
   "metadata": {
    "ExecuteTime": {
     "end_time": "2022-01-15T19:35:06.826695Z",
     "start_time": "2022-01-15T19:34:53.240490Z"
    }
   },
   "outputs": [
    {
     "data": {
      "text/html": [
       "<div>\n",
       "<style scoped>\n",
       "    .dataframe tbody tr th:only-of-type {\n",
       "        vertical-align: middle;\n",
       "    }\n",
       "\n",
       "    .dataframe tbody tr th {\n",
       "        vertical-align: top;\n",
       "    }\n",
       "\n",
       "    .dataframe thead th {\n",
       "        text-align: right;\n",
       "    }\n",
       "</style>\n",
       "<table border=\"1\" class=\"dataframe\">\n",
       "  <thead>\n",
       "    <tr style=\"text-align: right;\">\n",
       "      <th></th>\n",
       "      <th>id</th>\n",
       "      <th>zipcode</th>\n",
       "      <th>condition_house</th>\n",
       "      <th>price</th>\n",
       "      <th>price_median</th>\n",
       "      <th>buy</th>\n",
       "    </tr>\n",
       "  </thead>\n",
       "  <tbody>\n",
       "    <tr>\n",
       "      <th>0</th>\n",
       "      <td>7895500070</td>\n",
       "      <td>98001</td>\n",
       "      <td>2</td>\n",
       "      <td>240000.00</td>\n",
       "      <td>260000.00</td>\n",
       "      <td>no</td>\n",
       "    </tr>\n",
       "    <tr>\n",
       "      <th>246</th>\n",
       "      <td>8856000545</td>\n",
       "      <td>98001</td>\n",
       "      <td>3</td>\n",
       "      <td>100000.00</td>\n",
       "      <td>260000.00</td>\n",
       "      <td>yes</td>\n",
       "    </tr>\n",
       "    <tr>\n",
       "      <th>245</th>\n",
       "      <td>3422049088</td>\n",
       "      <td>98001</td>\n",
       "      <td>4</td>\n",
       "      <td>389000.00</td>\n",
       "      <td>260000.00</td>\n",
       "      <td>no</td>\n",
       "    </tr>\n",
       "    <tr>\n",
       "      <th>244</th>\n",
       "      <td>4012800010</td>\n",
       "      <td>98001</td>\n",
       "      <td>5</td>\n",
       "      <td>360000.00</td>\n",
       "      <td>260000.00</td>\n",
       "      <td>no</td>\n",
       "    </tr>\n",
       "    <tr>\n",
       "      <th>243</th>\n",
       "      <td>3876500290</td>\n",
       "      <td>98001</td>\n",
       "      <td>3</td>\n",
       "      <td>175000.00</td>\n",
       "      <td>260000.00</td>\n",
       "      <td>yes</td>\n",
       "    </tr>\n",
       "    <tr>\n",
       "      <th>242</th>\n",
       "      <td>5412100920</td>\n",
       "      <td>98001</td>\n",
       "      <td>3</td>\n",
       "      <td>250000.00</td>\n",
       "      <td>260000.00</td>\n",
       "      <td>yes</td>\n",
       "    </tr>\n",
       "    <tr>\n",
       "      <th>241</th>\n",
       "      <td>8001600130</td>\n",
       "      <td>98001</td>\n",
       "      <td>3</td>\n",
       "      <td>289950.00</td>\n",
       "      <td>260000.00</td>\n",
       "      <td>no</td>\n",
       "    </tr>\n",
       "    <tr>\n",
       "      <th>240</th>\n",
       "      <td>3353400840</td>\n",
       "      <td>98001</td>\n",
       "      <td>4</td>\n",
       "      <td>230000.00</td>\n",
       "      <td>260000.00</td>\n",
       "      <td>yes</td>\n",
       "    </tr>\n",
       "    <tr>\n",
       "      <th>239</th>\n",
       "      <td>3717000250</td>\n",
       "      <td>98001</td>\n",
       "      <td>3</td>\n",
       "      <td>321000.00</td>\n",
       "      <td>260000.00</td>\n",
       "      <td>no</td>\n",
       "    </tr>\n",
       "    <tr>\n",
       "      <th>247</th>\n",
       "      <td>1311800130</td>\n",
       "      <td>98001</td>\n",
       "      <td>3</td>\n",
       "      <td>162500.00</td>\n",
       "      <td>260000.00</td>\n",
       "      <td>yes</td>\n",
       "    </tr>\n",
       "    <tr>\n",
       "      <th>238</th>\n",
       "      <td>9264000010</td>\n",
       "      <td>98001</td>\n",
       "      <td>3</td>\n",
       "      <td>535000.00</td>\n",
       "      <td>260000.00</td>\n",
       "      <td>no</td>\n",
       "    </tr>\n",
       "    <tr>\n",
       "      <th>236</th>\n",
       "      <td>6306100190</td>\n",
       "      <td>98001</td>\n",
       "      <td>3</td>\n",
       "      <td>220000.00</td>\n",
       "      <td>260000.00</td>\n",
       "      <td>yes</td>\n",
       "    </tr>\n",
       "  </tbody>\n",
       "</table>\n",
       "</div>"
      ],
      "text/plain": [
       "             id  zipcode  condition_house     price  price_median  buy\n",
       "0    7895500070    98001                2 240000.00     260000.00   no\n",
       "246  8856000545    98001                3 100000.00     260000.00  yes\n",
       "245  3422049088    98001                4 389000.00     260000.00   no\n",
       "244  4012800010    98001                5 360000.00     260000.00   no\n",
       "243  3876500290    98001                3 175000.00     260000.00  yes\n",
       "242  5412100920    98001                3 250000.00     260000.00  yes\n",
       "241  8001600130    98001                3 289950.00     260000.00   no\n",
       "240  3353400840    98001                4 230000.00     260000.00  yes\n",
       "239  3717000250    98001                3 321000.00     260000.00   no\n",
       "247  1311800130    98001                3 162500.00     260000.00  yes\n",
       "238  9264000010    98001                3 535000.00     260000.00   no\n",
       "236  6306100190    98001                3 220000.00     260000.00  yes"
      ]
     },
     "execution_count": 145,
     "metadata": {},
     "output_type": "execute_result"
    }
   ],
   "source": [
    "df1 = data[['zipcode','price']].groupby('zipcode').median().reset_index()\n",
    "df2 = data[['id','zipcode','condition','price']]\n",
    "df3 = pd.merge(df1, df2, on='zipcode', how='inner')\n",
    "\n",
    "df3.columns = ['zipcode','price_median','id','condition_house','price']\n",
    "report = df3[['id','zipcode','condition_house','price','price_median']].sort_values('zipcode')\n",
    "\n",
    "report['buy'] = 'NA'\n",
    "\n",
    "for i in range(len(report)):\n",
    "    if (report.loc[i,'condition_house'] >= 3) & (report.loc[i,'price'] <= report.loc[i,'price_median']):\n",
    "        report.loc[i,'buy'] = 'yes'\n",
    "    else:\n",
    "        report.loc[i,'buy'] = 'no'\n",
    "\n",
    "report.head(12)"
   ]
  },
  {
   "cell_type": "code",
   "execution_count": 146,
   "id": "b012ab02",
   "metadata": {
    "ExecuteTime": {
     "end_time": "2022-01-15T19:35:07.171453Z",
     "start_time": "2022-01-15T19:35:06.985696Z"
    }
   },
   "outputs": [],
   "source": [
    "save_report(report, 'purchasing_report.csv')"
   ]
  },
  {
   "cell_type": "markdown",
   "id": "cf33ddba",
   "metadata": {},
   "source": [
    "## 7.2 Uma vez o imóvel comprado, qual o melhor momento para vendê-lo e por qual preço?\n",
    "\n",
    "* 1- Se o preço da compra for maior que a mediana da região + sazonalidade. O preço da venda será igual ao preço da compra + 10%\n",
    "* 2- Se o preço da compra for menor que a mediana da região + sazonalidade. O preço da venda será igual ao preço da compra + 30%"
   ]
  },
  {
   "cell_type": "code",
   "execution_count": 147,
   "id": "5ddb0c0e",
   "metadata": {
    "ExecuteTime": {
     "end_time": "2022-01-15T19:35:30.945404Z",
     "start_time": "2022-01-15T19:35:07.331695Z"
    }
   },
   "outputs": [
    {
     "data": {
      "text/html": [
       "<div>\n",
       "<style scoped>\n",
       "    .dataframe tbody tr th:only-of-type {\n",
       "        vertical-align: middle;\n",
       "    }\n",
       "\n",
       "    .dataframe tbody tr th {\n",
       "        vertical-align: top;\n",
       "    }\n",
       "\n",
       "    .dataframe thead th {\n",
       "        text-align: right;\n",
       "    }\n",
       "</style>\n",
       "<table border=\"1\" class=\"dataframe\">\n",
       "  <thead>\n",
       "    <tr style=\"text-align: right;\">\n",
       "      <th></th>\n",
       "      <th>id</th>\n",
       "      <th>zipcode</th>\n",
       "      <th>season</th>\n",
       "      <th>price</th>\n",
       "      <th>price_median</th>\n",
       "      <th>sales_price</th>\n",
       "      <th>status</th>\n",
       "    </tr>\n",
       "  </thead>\n",
       "  <tbody>\n",
       "    <tr>\n",
       "      <th>5479</th>\n",
       "      <td>6699300210</td>\n",
       "      <td>98001</td>\n",
       "      <td>fall</td>\n",
       "      <td>321500.00</td>\n",
       "      <td>249900.00</td>\n",
       "      <td>353650.00</td>\n",
       "      <td>1</td>\n",
       "    </tr>\n",
       "    <tr>\n",
       "      <th>15106</th>\n",
       "      <td>7351000160</td>\n",
       "      <td>98001</td>\n",
       "      <td>summer</td>\n",
       "      <td>332000.00</td>\n",
       "      <td>262500.00</td>\n",
       "      <td>365200.00</td>\n",
       "      <td>1</td>\n",
       "    </tr>\n",
       "    <tr>\n",
       "      <th>15107</th>\n",
       "      <td>2744000100</td>\n",
       "      <td>98001</td>\n",
       "      <td>summer</td>\n",
       "      <td>299950.00</td>\n",
       "      <td>262500.00</td>\n",
       "      <td>329945.00</td>\n",
       "      <td>1</td>\n",
       "    </tr>\n",
       "    <tr>\n",
       "      <th>15108</th>\n",
       "      <td>3521049048</td>\n",
       "      <td>98001</td>\n",
       "      <td>summer</td>\n",
       "      <td>515000.00</td>\n",
       "      <td>262500.00</td>\n",
       "      <td>566500.00</td>\n",
       "      <td>1</td>\n",
       "    </tr>\n",
       "    <tr>\n",
       "      <th>15109</th>\n",
       "      <td>6648760100</td>\n",
       "      <td>98001</td>\n",
       "      <td>summer</td>\n",
       "      <td>299950.00</td>\n",
       "      <td>262500.00</td>\n",
       "      <td>329945.00</td>\n",
       "      <td>1</td>\n",
       "    </tr>\n",
       "    <tr>\n",
       "      <th>15110</th>\n",
       "      <td>3751600457</td>\n",
       "      <td>98001</td>\n",
       "      <td>summer</td>\n",
       "      <td>299000.00</td>\n",
       "      <td>262500.00</td>\n",
       "      <td>328900.00</td>\n",
       "      <td>1</td>\n",
       "    </tr>\n",
       "    <tr>\n",
       "      <th>15111</th>\n",
       "      <td>304100090</td>\n",
       "      <td>98001</td>\n",
       "      <td>summer</td>\n",
       "      <td>215000.00</td>\n",
       "      <td>262500.00</td>\n",
       "      <td>279500.00</td>\n",
       "      <td>2</td>\n",
       "    </tr>\n",
       "    <tr>\n",
       "      <th>15112</th>\n",
       "      <td>3751603173</td>\n",
       "      <td>98001</td>\n",
       "      <td>summer</td>\n",
       "      <td>212500.00</td>\n",
       "      <td>262500.00</td>\n",
       "      <td>276250.00</td>\n",
       "      <td>2</td>\n",
       "    </tr>\n",
       "    <tr>\n",
       "      <th>15113</th>\n",
       "      <td>3751601501</td>\n",
       "      <td>98001</td>\n",
       "      <td>summer</td>\n",
       "      <td>382450.00</td>\n",
       "      <td>262500.00</td>\n",
       "      <td>420695.00</td>\n",
       "      <td>1</td>\n",
       "    </tr>\n",
       "    <tr>\n",
       "      <th>15114</th>\n",
       "      <td>3751606513</td>\n",
       "      <td>98001</td>\n",
       "      <td>summer</td>\n",
       "      <td>263400.00</td>\n",
       "      <td>262500.00</td>\n",
       "      <td>289740.00</td>\n",
       "      <td>1</td>\n",
       "    </tr>\n",
       "    <tr>\n",
       "      <th>15115</th>\n",
       "      <td>4013800131</td>\n",
       "      <td>98001</td>\n",
       "      <td>summer</td>\n",
       "      <td>267500.00</td>\n",
       "      <td>262500.00</td>\n",
       "      <td>294250.00</td>\n",
       "      <td>1</td>\n",
       "    </tr>\n",
       "    <tr>\n",
       "      <th>15116</th>\n",
       "      <td>7237590010</td>\n",
       "      <td>98001</td>\n",
       "      <td>summer</td>\n",
       "      <td>214100.00</td>\n",
       "      <td>262500.00</td>\n",
       "      <td>278330.00</td>\n",
       "      <td>2</td>\n",
       "    </tr>\n",
       "    <tr>\n",
       "      <th>15117</th>\n",
       "      <td>4014400190</td>\n",
       "      <td>98001</td>\n",
       "      <td>summer</td>\n",
       "      <td>482000.00</td>\n",
       "      <td>262500.00</td>\n",
       "      <td>530200.00</td>\n",
       "      <td>1</td>\n",
       "    </tr>\n",
       "    <tr>\n",
       "      <th>15105</th>\n",
       "      <td>5651500140</td>\n",
       "      <td>98001</td>\n",
       "      <td>summer</td>\n",
       "      <td>272000.00</td>\n",
       "      <td>262500.00</td>\n",
       "      <td>299200.00</td>\n",
       "      <td>1</td>\n",
       "    </tr>\n",
       "    <tr>\n",
       "      <th>15118</th>\n",
       "      <td>5647900670</td>\n",
       "      <td>98001</td>\n",
       "      <td>summer</td>\n",
       "      <td>340000.00</td>\n",
       "      <td>262500.00</td>\n",
       "      <td>374000.00</td>\n",
       "      <td>1</td>\n",
       "    </tr>\n",
       "  </tbody>\n",
       "</table>\n",
       "</div>"
      ],
      "text/plain": [
       "               id  zipcode  season     price  price_median sales_price status\n",
       "5479   6699300210    98001    fall 321500.00     249900.00   353650.00      1\n",
       "15106  7351000160    98001  summer 332000.00     262500.00   365200.00      1\n",
       "15107  2744000100    98001  summer 299950.00     262500.00   329945.00      1\n",
       "15108  3521049048    98001  summer 515000.00     262500.00   566500.00      1\n",
       "15109  6648760100    98001  summer 299950.00     262500.00   329945.00      1\n",
       "15110  3751600457    98001  summer 299000.00     262500.00   328900.00      1\n",
       "15111   304100090    98001  summer 215000.00     262500.00   279500.00      2\n",
       "15112  3751603173    98001  summer 212500.00     262500.00   276250.00      2\n",
       "15113  3751601501    98001  summer 382450.00     262500.00   420695.00      1\n",
       "15114  3751606513    98001  summer 263400.00     262500.00   289740.00      1\n",
       "15115  4013800131    98001  summer 267500.00     262500.00   294250.00      1\n",
       "15116  7237590010    98001  summer 214100.00     262500.00   278330.00      2\n",
       "15117  4014400190    98001  summer 482000.00     262500.00   530200.00      1\n",
       "15105  5651500140    98001  summer 272000.00     262500.00   299200.00      1\n",
       "15118  5647900670    98001  summer 340000.00     262500.00   374000.00      1"
      ]
     },
     "execution_count": 147,
     "metadata": {},
     "output_type": "execute_result"
    }
   ],
   "source": [
    "df1 = data[['id','price','zipcode','season']]\n",
    "df2 = data[['zipcode', 'price','season']].groupby(['zipcode','season']).median().reset_index()\n",
    "\n",
    "df3 = pd.merge(df1, df2, on=['zipcode','season'],how='inner')\n",
    "\n",
    "df3.columns = ['id','price','zipcode','season','price_median']\n",
    "report_sell = df3[['id','zipcode','season','price','price_median']].sort_values('zipcode')\n",
    "\n",
    "report_sell['sales_price'] = 'NA'\n",
    "report_sell['status'] = 'NA'\n",
    "\n",
    "for i in range(len(report_sell)):\n",
    "    if (report_sell.loc[i,'price'] > report_sell.loc[i,'price_median']):\n",
    "        report_sell.loc[i,'sales_price'] = report_sell.loc[i,'price'] * 1.1\n",
    "        report_sell.loc[i,'status'] = 1\n",
    "    else:\n",
    "        report_sell.loc[i,'sales_price'] = report_sell.loc[i,'price'] * 1.3\n",
    "        report_sell.loc[i,'status'] = 2\n",
    "        \n",
    "report_sell.head(15)"
   ]
  },
  {
   "cell_type": "code",
   "execution_count": 148,
   "id": "a31daac5",
   "metadata": {
    "ExecuteTime": {
     "end_time": "2022-01-15T19:35:33.723990Z",
     "start_time": "2022-01-15T19:35:31.121393Z"
    }
   },
   "outputs": [],
   "source": [
    "save_report(report_sell, 'sales_report.csv')"
   ]
  },
  {
   "cell_type": "code",
   "execution_count": 149,
   "id": "2e668dd6",
   "metadata": {
    "ExecuteTime": {
     "end_time": "2022-01-15T19:35:34.256813Z",
     "start_time": "2022-01-15T19:35:33.900048Z"
    }
   },
   "outputs": [
    {
     "data": {
      "text/html": [
       "<div>\n",
       "<style scoped>\n",
       "    .dataframe tbody tr th:only-of-type {\n",
       "        vertical-align: middle;\n",
       "    }\n",
       "\n",
       "    .dataframe tbody tr th {\n",
       "        vertical-align: top;\n",
       "    }\n",
       "\n",
       "    .dataframe thead th {\n",
       "        text-align: right;\n",
       "    }\n",
       "</style>\n",
       "<table border=\"1\" class=\"dataframe\">\n",
       "  <thead>\n",
       "    <tr style=\"text-align: right;\">\n",
       "      <th></th>\n",
       "      <th>sale_condition</th>\n",
       "      <th>purchase_price</th>\n",
       "      <th>sale_price</th>\n",
       "      <th>sales_profit</th>\n",
       "      <th>gain_total</th>\n",
       "    </tr>\n",
       "  </thead>\n",
       "  <tbody>\n",
       "    <tr>\n",
       "      <th>0</th>\n",
       "      <td>1</td>\n",
       "      <td>7427092990.00</td>\n",
       "      <td>8169802289.00</td>\n",
       "      <td>742709299.00</td>\n",
       "      <td>2016458904.40</td>\n",
       "    </tr>\n",
       "    <tr>\n",
       "      <th>1</th>\n",
       "      <td>2</td>\n",
       "      <td>4245832018.00</td>\n",
       "      <td>5519581623.40</td>\n",
       "      <td>1273749605.40</td>\n",
       "      <td>NaN</td>\n",
       "    </tr>\n",
       "  </tbody>\n",
       "</table>\n",
       "</div>"
      ],
      "text/plain": [
       "   sale_condition  purchase_price    sale_price  sales_profit    gain_total\n",
       "0               1   7427092990.00 8169802289.00  742709299.00 2016458904.40\n",
       "1               2   4245832018.00 5519581623.40 1273749605.40           NaN"
      ]
     },
     "execution_count": 149,
     "metadata": {},
     "output_type": "execute_result"
    }
   ],
   "source": [
    "price = report_sell[['status','price']].groupby('status').sum().reset_index()\n",
    "sales = report_sell[['status','sales_price']].groupby('status').sum().reset_index()\n",
    "\n",
    "report_profit = pd.merge(price, sales, on='status', how='inner')\n",
    "\n",
    "report_profit.loc[0,'profit'] = report_profit.loc[0,'sales_price'] - report_profit.loc[0,'price']\n",
    "report_profit.loc[1,'profit'] = report_profit.loc[1,'sales_price'] - report_profit.loc[1,'price']\n",
    "\n",
    "report_profit.loc[0,'gain_total'] = report_profit.loc[0,'profit'] + report_profit.loc[1,'profit']\n",
    "\n",
    "report_profit.columns = ['sale_condition','purchase_price','sale_price','sales_profit','gain_total']\n",
    "\n",
    "report_profit"
   ]
  },
  {
   "cell_type": "code",
   "execution_count": 150,
   "id": "bb181af3",
   "metadata": {
    "ExecuteTime": {
     "end_time": "2022-01-15T19:35:34.448860Z",
     "start_time": "2022-01-15T19:35:34.434842Z"
    }
   },
   "outputs": [],
   "source": [
    "save_report(report_profit,'report_profit.csv')"
   ]
  }
 ],
 "metadata": {
  "kernelspec": {
   "display_name": "Python 3 (ipykernel)",
   "language": "python",
   "name": "python3"
  },
  "language_info": {
   "codemirror_mode": {
    "name": "ipython",
    "version": 3
   },
   "file_extension": ".py",
   "mimetype": "text/x-python",
   "name": "python",
   "nbconvert_exporter": "python",
   "pygments_lexer": "ipython3",
   "version": "3.8.8"
  },
  "varInspector": {
   "cols": {
    "lenName": 16,
    "lenType": 16,
    "lenVar": 40
   },
   "kernels_config": {
    "python": {
     "delete_cmd_postfix": "",
     "delete_cmd_prefix": "del ",
     "library": "var_list.py",
     "varRefreshCmd": "print(var_dic_list())"
    },
    "r": {
     "delete_cmd_postfix": ") ",
     "delete_cmd_prefix": "rm(",
     "library": "var_list.r",
     "varRefreshCmd": "cat(var_dic_list()) "
    }
   },
   "types_to_exclude": [
    "module",
    "function",
    "builtin_function_or_method",
    "instance",
    "_Feature"
   ],
   "window_display": false
  }
 },
 "nbformat": 4,
 "nbformat_minor": 5
}
